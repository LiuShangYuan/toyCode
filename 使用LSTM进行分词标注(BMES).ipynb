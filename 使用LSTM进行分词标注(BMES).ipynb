{
 "cells": [
  {
   "cell_type": "code",
   "execution_count": 115,
   "metadata": {},
   "outputs": [],
   "source": [
    "import numpy as np\n",
    "import torch\n",
    "from torch import nn\n",
    "from torch.utils.data import Dataset, DataLoader\n",
    "import pickle\n",
    "from tqdm import tqdm_notebook as tqdm\n",
    "import matplotlib.pyplot as plt"
   ]
  },
  {
   "cell_type": "markdown",
   "metadata": {},
   "source": [
    "### 数据预处理"
   ]
  },
  {
   "cell_type": "code",
   "execution_count": 2,
   "metadata": {},
   "outputs": [],
   "source": [
    "def process(path):\n",
    "    with open(path, 'r') as f:\n",
    "        lines = f.readlines()\n",
    "        rlist = []\n",
    "        for line in lines:\n",
    "            linelist = line.split()\n",
    "            source = []\n",
    "            tag = []\n",
    "            for w in linelist:\n",
    "                w = w.strip()\n",
    "                if len(w)==1:\n",
    "                    source.append(w)\n",
    "                    tag.append(\"S\")\n",
    "                elif len(w) > 1:\n",
    "                    source.append(w[0])\n",
    "                    tag.append(\"B\")\n",
    "                    for i in range(1, len(w)):\n",
    "                        if i==len(w)-1:\n",
    "                            tag.append(\"E\")\n",
    "                        else:\n",
    "                            tag.append(\"M\")\n",
    "                        source.append(w[i])\n",
    "            if len(source) > 0 and len(tag) > 0:\n",
    "                rlist.append((source, tag))\n",
    "        return rlist"
   ]
  },
  {
   "cell_type": "code",
   "execution_count": 3,
   "metadata": {},
   "outputs": [],
   "source": [
    "training_data = process(\"/home/yinkai/Downloads/pku_training.utf8\")"
   ]
  },
  {
   "cell_type": "markdown",
   "metadata": {},
   "source": [
    "### 构造脚标和字符互相转换的字典"
   ]
  },
  {
   "cell_type": "code",
   "execution_count": 4,
   "metadata": {},
   "outputs": [],
   "source": [
    "def buildVocab(data):\n",
    "    UNKNOW = \"UNK\"\n",
    "    PAD = \"PAD\"\n",
    "    character2index = { UNKNOW:1, PAD:0}\n",
    "    idx = len(character2index)\n",
    "    for source, tag in data:\n",
    "        for c in source:\n",
    "            if character2index.get(c) is None:\n",
    "                character2index[c] = idx\n",
    "                idx += 1\n",
    "    return character2index\n",
    "\n",
    "def get_index2character(character2index):\n",
    "    index2character = {}\n",
    "    for c, idx in character2index.items():\n",
    "        index2character[idx] = c\n",
    "    return index2character"
   ]
  },
  {
   "cell_type": "markdown",
   "metadata": {},
   "source": [
    "### define parameter"
   ]
  },
  {
   "cell_type": "code",
   "execution_count": 109,
   "metadata": {},
   "outputs": [],
   "source": [
    "batchSize = 128\n",
    "n_samples = len(training_data)\n",
    "embedding_dim = 50\n",
    "hidden_dim = 30\n",
    "epoch = 200\n",
    "learning_rate = 0.01\n",
    "weight_decay = 1e-5\n",
    "\n",
    "\n",
    "character2index = buildVocab(training_data)\n",
    "index2character = get_index2character(character2index)\n",
    "\n",
    "tag2indx = {\"PAD\":0, \"B\":1, \"E\":2, \"S\":3, \"M\":4 }\n",
    "index2tag = {0:\"PAD\", 1:\"B\", 2:\"E\", 3:\"S\", 4:\"M\"}\n",
    "\n",
    "n_character = len(character2index)\n",
    "n_tags = len(tag2indx)\n",
    "padding_idx = character2index[\"PAD\"]"
   ]
  },
  {
   "cell_type": "markdown",
   "metadata": {},
   "source": [
    "### 随机获取一个Batch的数据"
   ]
  },
  {
   "cell_type": "code",
   "execution_count": 6,
   "metadata": {},
   "outputs": [],
   "source": [
    "np.random.seed(100)\n",
    "def getBatch(training_data, batchSize, character2index, tag2indx):\n",
    "    '''\n",
    "    获取一个batch数据, 并按照长度逆序排序, rnn求解需要使用\n",
    "    '''\n",
    "    n_samples = len(training_data)\n",
    "    indexs = np.random.choice(n_samples, batchSize)\n",
    "    \n",
    "    batch = [training_data[i] for i in indexs]\n",
    "    lens  = list(map(lambda x:len(x[0]), batch))\n",
    "    sort = np.argsort(np.array(lens)) ### 从小到大的索引\n",
    "    invsort = sort[::-1]\n",
    "    ### 当前batch最大串长度\n",
    "    maxlen = max(lens)\n",
    "    batchS = []\n",
    "    batchT = []\n",
    "    \n",
    "    newidx = [indexs[i] for i in invsort]\n",
    "    newlens = [lens[i] for i in invsort] ### 从大到小的长度\n",
    "    \n",
    "    \n",
    "    for idx in newidx:\n",
    "        s, t = training_data[idx]\n",
    "        idxs = []\n",
    "        idxt = []\n",
    "        for i in range(len(s)):\n",
    "            idxs.append(character2index[s[i]])\n",
    "            idxt.append(tag2indx[t[i]])\n",
    "        ### padding\n",
    "        idxs += [character2index[\"PAD\"]] * (maxlen - len(idxs))\n",
    "        idxt += [tag2indx[\"PAD\"]] * (maxlen - len(idxt))\n",
    "        \n",
    "        batchS.append(np.array(idxs))\n",
    "        batchT.append(np.array(idxt))\n",
    "    return np.array(batchS), np.array(batchT), newlens"
   ]
  },
  {
   "cell_type": "code",
   "execution_count": 7,
   "metadata": {},
   "outputs": [],
   "source": [
    "batchSource, batchTag, length = getBatch(training_data, batchSize, character2index, tag2indx)"
   ]
  },
  {
   "cell_type": "markdown",
   "metadata": {},
   "source": [
    " "
   ]
  },
  {
   "cell_type": "markdown",
   "metadata": {},
   "source": [
    "### 网络结构定义"
   ]
  },
  {
   "cell_type": "code",
   "execution_count": 93,
   "metadata": {},
   "outputs": [],
   "source": [
    "class LSTMTag(nn.Module):\n",
    "    def __init__(self, args):\n",
    "        super(LSTMTag, self).__init__()\n",
    "        \n",
    "        self.embedding_dim = args[\"embedding_dim\"]\n",
    "        self.hidden_dim = args[\"hidden_dim\"]\n",
    "        self.num_embeddings = args[\"num_embeddings\"]\n",
    "        self.n_tags = args[\"n_tags\"]\n",
    "        self.padding_idx = args[\"padding_idx\"]\n",
    "        \n",
    "        \n",
    "        self.embedding  = nn.Embedding(embedding_dim=self.embedding_dim, \\\n",
    "                                       num_embeddings=self.num_embeddings, padding_idx=self.padding_idx)\n",
    "        self.lstm = nn.LSTM(input_size=self.embedding_dim, hidden_size=self.hidden_dim, batch_first=True)\n",
    "        \n",
    "        self.linear = nn.Linear(self.hidden_dim, self.n_tags)\n",
    "        \n",
    "        self.softmax = nn.Softmax(dim=self.n_tags)\n",
    "        \n",
    "    def forward(self, x, lengths):\n",
    "        embedded  = self.embedding(x) ### [batch, maxlen, embedding_dim]\n",
    "        \n",
    "        packed = torch.nn.utils.rnn.pack_padded_sequence(embedded, lengths, batch_first=True)\n",
    "        outputs, hidden =  self.lstm(packed)\n",
    "        outputs, output_lengths = torch.nn.utils.rnn.pad_packed_sequence(outputs, batch_first=True) ###[batch, maxlen, hidden_dim]\n",
    "        \n",
    "        \n",
    "        out = self.linear(outputs)\n",
    "        final_out = self.softmax(out)\n",
    "        return final_out, output_lengths    "
   ]
  },
  {
   "cell_type": "markdown",
   "metadata": {},
   "source": [
    "### define network and training"
   ]
  },
  {
   "cell_type": "code",
   "execution_count": 116,
   "metadata": {},
   "outputs": [
    {
     "data": {
      "application/vnd.jupyter.widget-view+json": {
       "model_id": "4278f599a8a74babba322004eabb752f",
       "version_major": 2,
       "version_minor": 0
      },
      "text/plain": [
       "HBox(children=(IntProgress(value=0, max=200), HTML(value='')))"
      ]
     },
     "metadata": {},
     "output_type": "display_data"
    },
    {
     "name": "stdout",
     "output_type": "stream",
     "text": [
      "1.6234896183013916\n",
      "1.20063054561615\n",
      "0.9812573194503784\n",
      "0.8114786744117737\n",
      "0.7057069540023804\n",
      "0.6362357139587402\n",
      "0.5938759446144104\n",
      "0.5901710987091064\n",
      "0.5532979965209961\n",
      "0.5346288681030273\n",
      "0.5299627184867859\n",
      "0.5235915184020996\n",
      "0.5386320948600769\n",
      "0.5278980135917664\n",
      "0.5018707513809204\n",
      "0.48361441493034363\n",
      "0.5063832402229309\n",
      "0.5186933279037476\n",
      "0.4943026006221771\n",
      "0.4400085210800171\n",
      "\n"
     ]
    }
   ],
   "source": [
    "args = {}\n",
    "args[\"embedding_dim\"] = embedding_dim\n",
    "args[\"hidden_dim\"] = hidden_dim\n",
    "args[\"num_embeddings\"] = n_character\n",
    "args[\"n_tags\"] = n_tags\n",
    "args[\"padding_idx\"] = padding_idx\n",
    "\n",
    "lstm_tag = LSTMTag(args=args)\n",
    "\n",
    "### ignore index指定padding项的index()\n",
    "lossfunc = nn.CrossEntropyLoss(ignore_index=0)\n",
    "\n",
    "optimizer = torch.optim.Adam(params=lstm_tag.parameters(), lr=learning_rate, weight_decay=weight_decay)\n",
    "\n",
    "for i in tqdm(range(epoch)):\n",
    "    batchSource, batchTag, length = getBatch(training_data, batchSize, character2index, tag2indx)\n",
    "    outputs, lens = lstm_tag(torch.LongTensor(batchSource), torch.LongTensor(length))\n",
    "    out = outputs.view(-1, n_tags)\n",
    "    tag = torch.from_numpy(batchTag)\n",
    "    tag = tag.long()\n",
    "    out = outputs.view(-1, n_tags)\n",
    "    tag = tag.view(-1)\n",
    "    \n",
    "    optimizer.zero_grad()\n",
    "    loss = lossfunc(out, tag)\n",
    "    if i % 10 == 0:\n",
    "        print(float(loss))\n",
    "    loss.backward()\n",
    "    \n",
    "    optimizer.step()"
   ]
  },
  {
   "cell_type": "markdown",
   "metadata": {},
   "source": [
    "### 保存训练好的模型参数"
   ]
  },
  {
   "cell_type": "code",
   "execution_count": 146,
   "metadata": {},
   "outputs": [],
   "source": [
    "### 保存模型\n",
    "torch.save(lstm_tag.state_dict(), \"./lstm_tagger.pkl\")\n",
    "### 加载模型\n",
    "\n",
    "lstm_tagger = LSTMTag(args=args)\n",
    "lstm_tagger.load_state_dict(torch.load(\"./lstm_tagger.pkl\"))"
   ]
  },
  {
   "cell_type": "markdown",
   "metadata": {},
   "source": [
    "### 对单个句子进行tagging"
   ]
  },
  {
   "cell_type": "code",
   "execution_count": 143,
   "metadata": {},
   "outputs": [],
   "source": [
    "def tagging(tagger, sentence, character2index, index2tag):\n",
    "    \"\"\"\n",
    "    parameter:\n",
    "        tagger:标准器(网络)\n",
    "        sentence:中文句子\n",
    "    \"\"\"\n",
    "    x = []\n",
    "    for c in sentence:\n",
    "        if character2index[c] is None:\n",
    "            x.append(character2index[\"UNK\"])\n",
    "        else:\n",
    "            x.append(character2index[c])\n",
    "    x = torch.LongTensor(x)\n",
    "    outputs, _ = tagger(x.unsqueeze(0), torch.LongTensor([len(x)]) ) ### bach=1, len, n_tags\n",
    "    taglist = outputs[0].max(1)[1]\n",
    "    tags = []\n",
    "    for tidx in taglist:\n",
    "        tags.append(index2tag[int(tidx)])\n",
    "    return tags"
   ]
  },
  {
   "cell_type": "code",
   "execution_count": 148,
   "metadata": {},
   "outputs": [
    {
     "data": {
      "text/plain": [
       "['B', 'E', 'B', 'E', 'S']"
      ]
     },
     "execution_count": 148,
     "metadata": {},
     "output_type": "execute_result"
    }
   ],
   "source": [
    "tagging(lstm_tagger, \"北京欢迎你\", character2index, index2tag)"
   ]
  },
  {
   "cell_type": "code",
   "execution_count": null,
   "metadata": {},
   "outputs": [],
   "source": []
  }
 ],
 "metadata": {
  "kernelspec": {
   "display_name": "Python 3",
   "language": "python",
   "name": "python3"
  },
  "language_info": {
   "codemirror_mode": {
    "name": "ipython",
    "version": 3
   },
   "file_extension": ".py",
   "mimetype": "text/x-python",
   "name": "python",
   "nbconvert_exporter": "python",
   "pygments_lexer": "ipython3",
   "version": "3.6.5"
  }
 },
 "nbformat": 4,
 "nbformat_minor": 2
}
